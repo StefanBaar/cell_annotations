{
 "cells": [
  {
   "cell_type": "code",
   "execution_count": 1,
   "id": "17db62e2",
   "metadata": {
    "ExecuteTime": {
     "end_time": "2023-08-01T05:01:34.160200Z",
     "start_time": "2023-08-01T05:01:33.609830Z"
    }
   },
   "outputs": [],
   "source": [
    "%reload_ext autoreload\n",
    "%autoreload 2\n",
    "\n",
    "import numpy as np\n",
    "import cv2\n",
    "\n",
    "from matplotlib import pylab as plt\n",
    "import psdio\n",
    "\n",
    "import warnings\n",
    "warnings.filterwarnings(\"ignore\")"
   ]
  },
  {
   "cell_type": "markdown",
   "id": "dd906dee",
   "metadata": {},
   "source": [
    "# Example 31"
   ]
  },
  {
   "cell_type": "code",
   "execution_count": null,
   "id": "3319aee4",
   "metadata": {
    "ExecuteTime": {
     "start_time": "2023-08-01T05:01:33.612Z"
    }
   },
   "outputs": [
    {
     "name": "stderr",
     "output_type": "stream",
     "text": [
      "Unknown image resource 1092\n",
      "Unknown key: b'CAI '\n",
      "Unknown tagged block: b'CAI ', b'\\x00\\x00\\x00\\x03\\x00\\x00\\x00\\x10\\x00\\x00\\x00\\x01\\x00\\x00\\x00\\x00 ... =144'\n"
     ]
    }
   ],
   "source": [
    "psd_path     = \"sample_31.psd\"\n",
    "psd_npy      = psdio.large_psd_to_npy(psd_path)\n",
    "image, cells = psdio.get_masks_from_layer(psd_npy)\n",
    "\n",
    "image        = image[:,:,0].astype(float)\n",
    "image        = image/image.max()"
   ]
  },
  {
   "cell_type": "code",
   "execution_count": null,
   "id": "0197423c",
   "metadata": {
    "ExecuteTime": {
     "start_time": "2023-08-01T05:01:33.613Z"
    }
   },
   "outputs": [],
   "source": [
    "image.shape, cells.shape ### one layer per cell -> Nr. of cells = Nr. of layers"
   ]
  },
  {
   "cell_type": "code",
   "execution_count": null,
   "id": "197a48cc",
   "metadata": {
    "ExecuteTime": {
     "start_time": "2023-08-01T05:01:33.614Z"
    }
   },
   "outputs": [],
   "source": [
    "instance  = np.sum((cells.T*np.arange(1,len(cells)+1).T).T,0)\n",
    "semantics = instance.astype(bool)"
   ]
  },
  {
   "cell_type": "code",
   "execution_count": null,
   "id": "bd4a7fb1",
   "metadata": {
    "ExecuteTime": {
     "start_time": "2023-08-01T05:01:33.614Z"
    },
    "scrolled": true
   },
   "outputs": [],
   "source": [
    "plt.figure(figsize=(12,6))\n",
    "plt.subplot(131)\n",
    "plt.imshow(image,\"Greys_r\",vmin=0.4,vmax=0.6)\n",
    "plt.axis(\"off\")\n",
    "plt.title(\"image\", loc=\"left\")\n",
    "plt.subplot(132)\n",
    "plt.imshow(instance)\n",
    "plt.axis(\"off\")\n",
    "plt.title(\"instance mask\", loc=\"left\")\n",
    "plt.subplot(133)\n",
    "plt.imshow(semantics)\n",
    "plt.axis(\"off\")\n",
    "plt.title(\"segmentation mask\", loc=\"left\")\n",
    "plt.show()"
   ]
  },
  {
   "cell_type": "markdown",
   "id": "eefd5c8e",
   "metadata": {},
   "source": [
    "# Detection \n",
    "## Rule/filter based detection"
   ]
  },
  {
   "cell_type": "code",
   "execution_count": null,
   "id": "7c83d971",
   "metadata": {
    "ExecuteTime": {
     "start_time": "2023-08-01T05:01:33.615Z"
    }
   },
   "outputs": [],
   "source": [
    "from detection import detect_cells"
   ]
  },
  {
   "cell_type": "code",
   "execution_count": null,
   "id": "456621b7",
   "metadata": {
    "ExecuteTime": {
     "start_time": "2023-08-01T05:01:33.616Z"
    }
   },
   "outputs": [],
   "source": [
    "mask = detect_cells(image,edge_sigma=3.5,obsize=500)\n",
    "\n",
    "plt.figure(figsize=(12,7))\n",
    "plt.subplot(131)\n",
    "plt.imshow(image,\"Greys\",vmin=0.4,vmax=0.6)\n",
    "plt.colorbar(shrink=0.25)\n",
    "plt.axis(\"off\")\n",
    "plt.title(\"Sobel edges\", loc=\"left\")\n",
    "\n",
    "plt.subplot(132)\n",
    "plt.imshow(mask)\n",
    "plt.colorbar(shrink=0.25)\n",
    "plt.axis(\"off\")\n",
    "plt.title(\"refined Mask\", loc=\"left\")\n",
    "\n",
    "plt.subplot(133)\n",
    "plt.imshow(semantics)\n",
    "plt.colorbar(shrink=0.25)\n",
    "plt.axis(\"off\")\n",
    "plt.title(\"segmentation mask\", loc=\"left\")\n",
    "plt.show()"
   ]
  },
  {
   "cell_type": "code",
   "execution_count": null,
   "id": "d4ced20e",
   "metadata": {
    "ExecuteTime": {
     "start_time": "2023-08-01T05:01:33.616Z"
    }
   },
   "outputs": [],
   "source": [
    "import torch\n",
    "import segmentation_models_pytorch as smp"
   ]
  },
  {
   "cell_type": "code",
   "execution_count": null,
   "id": "c685073f",
   "metadata": {
    "ExecuteTime": {
     "start_time": "2023-08-01T05:01:33.616Z"
    },
    "scrolled": true
   },
   "outputs": [],
   "source": [
    "tp, fp,fn, tn = smp.metrics.get_stats(torch.tensor(mask), \n",
    "                                      torch.tensor(semantics), \n",
    "                                      mode='binary', threshold=0.5,)\n",
    "\n",
    "plt.figure(figsize=(12,3))\n",
    "names = [\"TP\", \"FP\", \"FN\", \"TN\"]\n",
    "for n,i in enumerate([tp, fp, fn, tn]):\n",
    "    plt.subplot(141+n)\n",
    "    plt.imshow(i)\n",
    "    plt.axis(\"off\")\n",
    "    plt.title(names[n], loc=\"left\")\n",
    "plt.show()"
   ]
  },
  {
   "cell_type": "code",
   "execution_count": null,
   "id": "8ec7a795",
   "metadata": {
    "ExecuteTime": {
     "start_time": "2023-08-01T05:01:33.617Z"
    }
   },
   "outputs": [],
   "source": [
    "IOU       = smp.metrics.iou_score(tp, fp, fn, tn)\n",
    "IOU_micro = smp.metrics.iou_score(tp, fp, fn, tn, reduction=\"micro\")\n",
    "IOU_macro = smp.metrics.iou_score(tp, fp, fn, tn, reduction=\"macro\")\n",
    "\n",
    "precision = smp.metrics.precision(tp, fp, fn, tn,reduction=\"micro\")\n",
    "accuracy  = smp.metrics.accuracy(tp, fp, fn, tn, reduction=\"macro\")\n",
    "f1_score  = smp.metrics.f1_score(tp, fp, fn, tn, reduction=\"micro\")\n",
    "f2_score  = smp.metrics.fbeta_score(tp, fp, fn, tn, beta=2, reduction=\"micro\")\n",
    "recall    = smp.metrics.recall(tp, fp, fn, tn, reduction=\"micro-imagewise\")\n",
    "\n",
    "print(\"IOU: \"      , float(IOU_micro),float(IOU_macro))\n",
    "print(\"precision: \", float(precision))\n",
    "print(\"f1_score: \" , float(f1_score))\n",
    "print(\"f2_score: \" , float(f2_score))\n",
    "print(\"accuracy: \" , float(accuracy))\n",
    "print(\"recall: \"   , float(recall))"
   ]
  },
  {
   "cell_type": "code",
   "execution_count": null,
   "id": "29902314",
   "metadata": {},
   "outputs": [],
   "source": []
  },
  {
   "cell_type": "markdown",
   "id": "c472bc53",
   "metadata": {},
   "source": [
    "# Example 16"
   ]
  },
  {
   "cell_type": "code",
   "execution_count": null,
   "id": "307c7df5",
   "metadata": {
    "ExecuteTime": {
     "start_time": "2023-08-01T05:01:33.621Z"
    }
   },
   "outputs": [],
   "source": [
    "psd_path     = \"sample_16.psd\"\n",
    "psd_npy      = psdio.large_psd_to_npy(psd_path)\n",
    "image, cells = psdio.get_masks_from_layer(psd_npy)\n",
    "\n",
    "instance  = np.sum((cells.T*np.arange(1,len(cells)+1).T).T,0)\n",
    "semantics = instance.astype(bool)\n",
    "\n",
    "image        = image[:,:,0].astype(float)\n",
    "image        = image/image.max()\n",
    "\n",
    "mask         = detect_cells(image,edge_sigma=1.5,obsize=2000)\n",
    "\n",
    "plt.figure(figsize=(12,7))\n",
    "plt.subplot(131)\n",
    "plt.imshow(image)\n",
    "plt.colorbar(shrink=0.25)\n",
    "plt.axis(\"off\")\n",
    "plt.title(\"Sobel edges\", loc=\"left\")\n",
    "\n",
    "plt.subplot(132)\n",
    "plt.imshow(mask)\n",
    "plt.colorbar(shrink=0.25)\n",
    "plt.axis(\"off\")\n",
    "plt.title(\"refined Mask\", loc=\"left\")\n",
    "\n",
    "plt.subplot(133)\n",
    "plt.imshow(semantics)\n",
    "plt.colorbar(shrink=0.25)\n",
    "plt.axis(\"off\")\n",
    "plt.title(\"segmentation mask\", loc=\"left\")\n",
    "plt.show()"
   ]
  },
  {
   "cell_type": "code",
   "execution_count": null,
   "id": "5d166679",
   "metadata": {},
   "outputs": [],
   "source": []
  },
  {
   "cell_type": "code",
   "execution_count": null,
   "id": "e7ed3ea4",
   "metadata": {
    "ExecuteTime": {
     "end_time": "2023-08-01T03:15:56.815509Z",
     "start_time": "2023-08-01T03:15:56.769184Z"
    }
   },
   "outputs": [],
   "source": []
  },
  {
   "cell_type": "code",
   "execution_count": null,
   "id": "7a00ff33",
   "metadata": {
    "ExecuteTime": {
     "start_time": "2023-08-01T05:01:33.622Z"
    }
   },
   "outputs": [],
   "source": [
    "tp, fp,fn, tn = smp.metrics.get_stats(torch.tensor(mask), \n",
    "                                      torch.tensor(semantics), \n",
    "                                      mode='binary', threshold=0.5,)\n",
    "\n",
    "plt.figure(figsize=(12,3))\n",
    "names = [\"TP\", \"FP\", \"FN\", \"TN\"]\n",
    "for n,i in enumerate([tp, fp, fn, tn]):\n",
    "    plt.subplot(141+n)\n",
    "    plt.imshow(i)\n",
    "    plt.axis(\"off\")\n",
    "    plt.title(names[n], loc=\"left\")\n",
    "plt.show()"
   ]
  },
  {
   "cell_type": "code",
   "execution_count": null,
   "id": "b6ac57ae",
   "metadata": {},
   "outputs": [],
   "source": []
  },
  {
   "cell_type": "code",
   "execution_count": null,
   "id": "5c8d566b",
   "metadata": {
    "ExecuteTime": {
     "start_time": "2023-08-01T05:01:33.623Z"
    }
   },
   "outputs": [],
   "source": [
    "IOU       = smp.metrics.iou_score(tp, fp, fn, tn)\n",
    "IOU_micro = smp.metrics.iou_score(tp, fp, fn, tn, reduction=\"micro\")\n",
    "IOU_macro = smp.metrics.iou_score(tp, fp, fn, tn, reduction=\"macro\")\n",
    "\n",
    "precision = smp.metrics.precision(tp, fp, fn, tn,reduction=\"micro\")\n",
    "accuracy  = smp.metrics.accuracy(tp, fp, fn, tn, reduction=\"macro\")\n",
    "f1_score  = smp.metrics.f1_score(tp, fp, fn, tn, reduction=\"micro\")\n",
    "f2_score  = smp.metrics.fbeta_score(tp, fp, fn, tn, beta=2, reduction=\"micro\")\n",
    "recall    = smp.metrics.recall(tp, fp, fn, tn, reduction=\"micro-imagewise\")\n",
    "\n",
    "print(\"IOU: \"      , float(IOU_micro),float(IOU_macro))\n",
    "print(\"precision: \", float(precision))\n",
    "print(\"f1_score: \" , float(f1_score))\n",
    "print(\"f2_score: \" , float(f2_score))\n",
    "print(\"accuracy: \" , float(accuracy))\n",
    "print(\"recall: \"   , float(recall))\n",
    "\n"
   ]
  },
  {
   "cell_type": "code",
   "execution_count": null,
   "id": "5322d751",
   "metadata": {
    "ExecuteTime": {
     "end_time": "2023-08-01T03:47:29.093334Z",
     "start_time": "2023-08-01T03:47:28.931836Z"
    }
   },
   "outputs": [],
   "source": []
  },
  {
   "cell_type": "code",
   "execution_count": null,
   "id": "d9fb6243",
   "metadata": {
    "ExecuteTime": {
     "end_time": "2023-08-01T03:55:28.495939Z",
     "start_time": "2023-08-01T03:55:28.449642Z"
    }
   },
   "outputs": [],
   "source": []
  },
  {
   "cell_type": "code",
   "execution_count": null,
   "id": "8301f24d",
   "metadata": {},
   "outputs": [],
   "source": []
  }
 ],
 "metadata": {
  "kernelspec": {
   "display_name": "Python 3 (ipykernel)",
   "language": "python",
   "name": "python3"
  },
  "language_info": {
   "codemirror_mode": {
    "name": "ipython",
    "version": 3
   },
   "file_extension": ".py",
   "mimetype": "text/x-python",
   "name": "python",
   "nbconvert_exporter": "python",
   "pygments_lexer": "ipython3",
   "version": "3.9.14+"
  }
 },
 "nbformat": 4,
 "nbformat_minor": 5
}
